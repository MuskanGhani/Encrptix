{
 "cells": [
  {
   "cell_type": "code",
   "execution_count": 1,
   "metadata": {},
   "outputs": [],
   "source": [
    "import tkinter as tk\n",
    "from tkinter import messagebox\n",
    "\n",
    "# Function to add a task to the list\n",
    "def add_task():\n",
    "    task = task_entry.get()\n",
    "    if task != \"\":\n",
    "        tasks_listbox.insert(tk.END, task)\n",
    "        task_entry.delete(0, tk.END)\n",
    "    else:\n",
    "        messagebox.showwarning(\"Warning\", \"You must enter a task.\")\n",
    "\n",
    "# Function to delete the selected task from the list\n",
    "def delete_task():\n",
    "    try:\n",
    "        task_index = tasks_listbox.curselection()[0]\n",
    "        tasks_listbox.delete(task_index)\n",
    "    except:\n",
    "        messagebox.showwarning(\"Warning\", \"You must select a task.\")\n",
    "\n",
    "\n",
    "root = tk.Tk()\n",
    "root.title(\"To-Do List\")\n",
    "\n",
    "\n",
    "frame = tk.Frame(root)\n",
    "frame.pack(pady=10)\n",
    "\n",
    "\n",
    "tasks_listbox = tk.Listbox(frame, width=50, height=10, bd=0)\n",
    "tasks_listbox.pack(side=tk.LEFT, fill=tk.BOTH)\n",
    "\n",
    "\n",
    "scrollbar = tk.Scrollbar(frame)\n",
    "scrollbar.pack(side=tk.RIGHT, fill=tk.BOTH)\n",
    "\n",
    "tasks_listbox.config(yscrollcommand=scrollbar.set)\n",
    "scrollbar.config(command=tasks_listbox.yview)\n",
    "\n",
    "\n",
    "task_entry = tk.Entry(root, width=50)\n",
    "task_entry.pack(pady=20)\n",
    "\n",
    "\n",
    "add_task_button = tk.Button(root, text=\"Add Task\", width=48, command=add_task)\n",
    "add_task_button.pack(pady=5)\n",
    "\n",
    "delete_task_button = tk.Button(root, text=\"Delete Task\", width=48, command=delete_task)\n",
    "delete_task_button.pack(pady=5)\n",
    "\n",
    "root.mainloop()\n"
   ]
  },
  {
   "cell_type": "code",
   "execution_count": 2,
   "metadata": {},
   "outputs": [
    {
     "name": "stdout",
     "output_type": "stream",
     "text": [
      "<class 'float'>\n"
     ]
    }
   ],
   "source": [
    "x=2.8\n",
    "print(type(x))"
   ]
  }
 ],
 "metadata": {
  "kernelspec": {
   "display_name": "Python 3",
   "language": "python",
   "name": "python3"
  },
  "language_info": {
   "codemirror_mode": {
    "name": "ipython",
    "version": 3
   },
   "file_extension": ".py",
   "mimetype": "text/x-python",
   "name": "python",
   "nbconvert_exporter": "python",
   "pygments_lexer": "ipython3",
   "version": "3.12.2"
  }
 },
 "nbformat": 4,
 "nbformat_minor": 2
}
